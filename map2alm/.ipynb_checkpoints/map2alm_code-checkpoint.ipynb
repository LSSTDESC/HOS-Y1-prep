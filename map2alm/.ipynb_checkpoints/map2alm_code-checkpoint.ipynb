{
 "cells": [
  {
   "cell_type": "code",
   "execution_count": 3,
   "id": "3af73447-b660-4e4e-bfd6-1f1884b22c99",
   "metadata": {},
   "outputs": [],
   "source": [
    "#/usr/bin/env python\n",
    "import numpy as np\n",
    "import pylab as pl\n",
    "import healpy as hp\n",
    "import healsparse\n",
    "import os\n",
    "\n",
    "nside_c = 32\n",
    "\n"
   ]
  },
  {
   "cell_type": "code",
   "execution_count": 4,
   "id": "657b85ea-f7b0-46ff-b148-701b997161be",
   "metadata": {},
   "outputs": [
    {
     "ename": "NameError",
     "evalue": "name 'os' is not defined",
     "output_type": "error",
     "traceback": [
      "\u001b[0;31m---------------------------------------------------------------------------\u001b[0m",
      "\u001b[0;31mNameError\u001b[0m                                 Traceback (most recent call last)",
      "Input \u001b[0;32mIn [4]\u001b[0m, in \u001b[0;36m<cell line: 10>\u001b[0;34m()\u001b[0m\n\u001b[1;32m      8\u001b[0m nzs\u001b[38;5;241m=\u001b[39m\u001b[38;5;124m'\u001b[39m\u001b[38;5;124mkappa_zsnapshots\u001b[39m\u001b[38;5;124m'\u001b[39m\n\u001b[1;32m     10\u001b[0m \u001b[38;5;28;01mfor\u001b[39;00m tomo \u001b[38;5;129;01min\u001b[39;00m \u001b[38;5;28mrange\u001b[39m(\u001b[38;5;241m1\u001b[39m,\u001b[38;5;241m6\u001b[39m):\n\u001b[1;32m     11\u001b[0m \n\u001b[1;32m     12\u001b[0m     \u001b[38;5;66;03m# kappa maps stored in .npy format:\u001b[39;00m\n\u001b[1;32m     13\u001b[0m     \u001b[38;5;66;03m#print( \"\\nLoading convergence map and computing C_ell's: tomo=\"+np.str(tomo))\u001b[39;00m\n\u001b[1;32m     14\u001b[0m     \u001b[38;5;66;03m#fname = \"../../kappa/V0/kappa_tomo\"+np.str(tomo)+\".npy\" \u001b[39;00m\n\u001b[1;32m     15\u001b[0m     \u001b[38;5;66;03m#kpmap_ring = np.load(fname)\u001b[39;00m\n\u001b[0;32m---> 17\u001b[0m     a \u001b[38;5;241m=\u001b[39m healsparse\u001b[38;5;241m.\u001b[39mHealSparseMap\u001b[38;5;241m.\u001b[39mread(\u001b[43mos\u001b[49m\u001b[38;5;241m.\u001b[39mpath\u001b[38;5;241m.\u001b[39mjoin(path, \u001b[38;5;124mf\u001b[39m\u001b[38;5;124m'\u001b[39m\u001b[38;5;124mshells_\u001b[39m\u001b[38;5;132;01m{\u001b[39;00mnshells\u001b[38;5;132;01m}\u001b[39;00m\u001b[38;5;124m_subsampleauto_groupiso/\u001b[39m\u001b[38;5;132;01m{\u001b[39;00mnzs\u001b[38;5;132;01m}\u001b[39;00m\u001b[38;5;124m/kappa_hacc_nz\u001b[39m\u001b[38;5;132;01m{\u001b[39;00mtomo\u001b[38;5;132;01m}\u001b[39;00m\u001b[38;5;124m_nside4096_seed\u001b[39m\u001b[38;5;132;01m{\u001b[39;00mseed\u001b[38;5;132;01m}\u001b[39;00m\u001b[38;5;124m.fits\u001b[39m\u001b[38;5;124m'\u001b[39m))\n\u001b[1;32m     18\u001b[0m     kpmap_ring \u001b[38;5;241m=\u001b[39m a\u001b[38;5;241m.\u001b[39mgenerate_healpix_map()\n\u001b[1;32m     19\u001b[0m     \u001b[38;5;28mprint\u001b[39m(\u001b[38;5;124m\"\u001b[39m\u001b[38;5;124mloaded kappa\u001b[39m\u001b[38;5;124m\"\u001b[39m)\n",
      "\u001b[0;31mNameError\u001b[0m: name 'os' is not defined"
     ]
    }
   ],
   "source": [
    "# Compute C_ell:\n",
    "\n",
    "path = '/global/cscratch1/sd/xuod/HOS_sims/L845/HACC150/'\n",
    "nshells=106\n",
    "seed=1\n",
    "what1='gamma1'\n",
    "what2='gamma2'\n",
    "nzs='kappa_zsnapshots'\n",
    "\n",
    "for tomo in range(1,6):\n",
    "\n",
    "    # kappa maps stored in .npy format:\n",
    "    #print( \"\\nLoading convergence map and computing C_ell's: tomo=\"+np.str(tomo))\n",
    "    #fname = \"../../kappa/V0/kappa_tomo\"+np.str(tomo)+\".npy\" \n",
    "    #kpmap_ring = np.load(fname)\n",
    "    \n",
    "    a = healsparse.HealSparseMap.read(os.path.join(path, f'shells_{nshells}_subsampleauto_groupiso/{nzs}/kappa_hacc_nz{tomo}_nside4096_seed{seed}.fits'))\n",
    "    kpmap_ring = a.generate_healpix_map()\n",
    "    print(\"loaded kappa\")\n",
    "    \n",
    "\n",
    "    # Compute C_ell:\n",
    "    Cl = hp.sphtfunc.anafast(kpmap_ring, map2=None, nspec=None, lmax=5000, mmax=None, iter=1, alm=False, pol=False, use_weights=False, datapath=None, gal_cut=0, use_pixel_weights=False)\n",
    "    Cl *= 8.0\n",
    "    print(\"Got C_ell\")\n",
    "    fname = \"map2alm_output/Cl_tomo\"+np.str(tomo)+\".dat\"\n",
    "    np.savetxt(fname,Cl)\n",
    "    print(\"Saved C_ell\")\n",
    "    "
   ]
  },
  {
   "cell_type": "code",
   "execution_count": null,
   "id": "7e96b016-d66c-4363-9830-c0a297b8a919",
   "metadata": {},
   "outputs": [],
   "source": []
  }
 ],
 "metadata": {
  "kernelspec": {
   "display_name": "desc-python-dev",
   "language": "python",
   "name": "desc-python-dev"
  },
  "language_info": {
   "codemirror_mode": {
    "name": "ipython",
    "version": 3
   },
   "file_extension": ".py",
   "mimetype": "text/x-python",
   "name": "python",
   "nbconvert_exporter": "python",
   "pygments_lexer": "ipython3",
   "version": "3.8.12"
  }
 },
 "nbformat": 4,
 "nbformat_minor": 5
}
