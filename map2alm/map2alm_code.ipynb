{
 "cells": [
  {
   "cell_type": "code",
   "execution_count": 5,
   "id": "3af73447-b660-4e4e-bfd6-1f1884b22c99",
   "metadata": {},
   "outputs": [],
   "source": [
    "#/usr/bin/env python\n",
    "import numpy as np\n",
    "import pylab as pl\n",
    "import healpy as hp\n",
    "import healsparse\n",
    "import os\n",
    "\n",
    "nside_c = 32\n",
    "\n"
   ]
  },
  {
   "cell_type": "code",
   "execution_count": 8,
   "id": "657b85ea-f7b0-46ff-b148-701b997161be",
   "metadata": {},
   "outputs": [
    {
     "name": "stdout",
     "output_type": "stream",
     "text": [
      "loaded kappa\n",
      "Got C_ell\n",
      "Saved C_ell\n"
     ]
    },
    {
     "name": "stderr",
     "output_type": "stream",
     "text": [
      "/tmp/ipykernel_52943/1404974348.py:26: DeprecationWarning: `np.str` is a deprecated alias for the builtin `str`. To silence this warning, use `str` by itself. Doing this will not modify any behavior and is safe. If you specifically wanted the numpy scalar type, use `np.str_` here.\n",
      "Deprecated in NumPy 1.20; for more details and guidance: https://numpy.org/devdocs/release/1.20.0-notes.html#deprecations\n",
      "  fname = \"map2alm_output/Cl_tomo\"+np.str(tomo)+\".dat\"\n"
     ]
    },
    {
     "name": "stdout",
     "output_type": "stream",
     "text": [
      "loaded kappa\n",
      "Got C_ell\n",
      "Saved C_ell\n",
      "loaded kappa\n",
      "Got C_ell\n",
      "Saved C_ell\n",
      "loaded kappa\n",
      "Got C_ell\n",
      "Saved C_ell\n",
      "loaded kappa\n",
      "Got C_ell\n",
      "Saved C_ell\n"
     ]
    }
   ],
   "source": [
    "# Compute C_ell:\n",
    "\n",
    "path = '/global/cscratch1/sd/xuod/HOS_sims/L845/HACC150/'\n",
    "nshells=106\n",
    "seed=1\n",
    "nzs='kappa_zsnapshots'\n",
    "\n",
    "for tomo in range(1,6):\n",
    "\n",
    "    # kappa maps stored in .npy format:\n",
    "    #print( \"\\nLoading convergence map and computing C_ell's: tomo=\"+np.str(tomo))\n",
    "    #fname = \"../../kappa/V0/kappa_tomo\"+np.str(tomo)+\".npy\" \n",
    "    #kpmap_ring = np.load(fname)\n",
    "    \n",
    "    a = healsparse.HealSparseMap.read(os.path.join(path, f'shells_z{nshells}_subsampleauto_groupiso/{nzs}/kappa_hacc_nz{tomo}_nside4096_seed{seed}.fits'))\n",
    "    kpmap_ring = a.generate_healpix_map()\n",
    "    print(\"loaded kappa\")\n",
    "    \n",
    "\n",
    "    # Compute C_ell:\n",
    "    Cl = hp.sphtfunc.anafast(kpmap_ring, map2=None, nspec=None, lmax=5000, mmax=None, iter=1, alm=False, pol=False, use_weights=False, datapath=None, gal_cut=0, use_pixel_weights=False)\n",
    "    Cl *= 8.0\n",
    "    print(\"Got C_ell\")\n",
    "    fname = \"map2alm_output/Cl_tomo\"+np.str(tomo)+\".dat\"\n",
    "    np.savetxt(fname,Cl)\n",
    "    print(\"Saved C_ell\")\n",
    "    "
   ]
  },
  {
   "cell_type": "code",
   "execution_count": 7,
   "id": "7e96b016-d66c-4363-9830-c0a297b8a919",
   "metadata": {},
   "outputs": [
    {
     "data": {
      "text/plain": [
       "'shells_106_subsampleauto_groupiso/kappa_zsnapshots/kappa_hacc_nz1_nside4096_seed1.fits'"
      ]
     },
     "execution_count": 7,
     "metadata": {},
     "output_type": "execute_result"
    }
   ],
   "source": []
  },
  {
   "cell_type": "code",
   "execution_count": null,
   "id": "8f5f6a65-f12c-4d63-81e8-fd2dce9befb6",
   "metadata": {},
   "outputs": [],
   "source": []
  }
 ],
 "metadata": {
  "kernelspec": {
   "display_name": "desc-python-dev",
   "language": "python",
   "name": "desc-python-dev"
  },
  "language_info": {
   "codemirror_mode": {
    "name": "ipython",
    "version": 3
   },
   "file_extension": ".py",
   "mimetype": "text/x-python",
   "name": "python",
   "nbconvert_exporter": "python",
   "pygments_lexer": "ipython3",
   "version": "3.8.12"
  }
 },
 "nbformat": 4,
 "nbformat_minor": 5
}
