{
 "cells": [
  {
   "cell_type": "code",
   "execution_count": 1,
   "id": "6a29d428-17c3-4368-bab2-19fe283d14af",
   "metadata": {},
   "outputs": [],
   "source": [
    "import treecorr\n",
    "import pyccl as ccl\n",
    "import numpy as np\n",
    "    \n",
    "config = {'ra_col' : 1,\n",
    "          'dec_col' : 2,\n",
    "          'g1_col' : 3,\n",
    "          'g2_col' : 4,\n",
    "          'w_col' : 5,\n",
    "          'ra_units' : 'deg',\n",
    "          'dec_units' : 'deg'}\n"
   ]
  },
  {
   "cell_type": "markdown",
   "id": "78f18a63-92a8-4d9c-aeaf-a7382cb51d15",
   "metadata": {},
   "source": [
    "We load all of the data into a single array for simplicity, n=6 is used for consistency so that we can start counting from 1 to 5 instead of from 0 to 4\n",
    "\n",
    "Here we calculate the auto correlation functions for all bins"
   ]
  },
  {
   "cell_type": "code",
   "execution_count": 2,
   "id": "75579c44-84de-4ec7-b24a-13257bbd5d05",
   "metadata": {},
   "outputs": [],
   "source": [
    "for i in np.arange(5)+1:\n",
    "    filename = '/global/homes/j/jharno/IA-infusion/HACC-Y1/GalCat/StageIV_nz/V0/GalCat_tomo{}_All_0.06GpAM_RA_Dec_g1_g2_w_z_good.asc'.format(i)\n",
    "    cat = treecorr.Catalog(filename, config, flip_g2=True)\n",
    "    #gg = treecorr.GGCorrelation(nbins = 20, min_sep = 0.005, max_sep = 7, bin_slop=0.01) \n",
    "    gg = treecorr.GGCorrelation(nbins = 20, min_sep=0.5, max_sep=475.5, sep_units='arcmin',bin_slop=0.01,)\n",
    "    gg.process(cat, metric = 'Arc')\n",
    "    gg.write('treecorr_output/cross_correlation_tomo{}_{}'.format(i,i))\n",
    "    print('Done tomo',i)"
   ]
  },
  {
   "cell_type": "markdown",
   "id": "ab74695b-36bf-4e32-be9f-d0707c844dd6",
   "metadata": {},
   "source": [
    "Here we calculate the cross correlation functions for all bins"
   ]
  },
  {
   "cell_type": "code",
   "execution_count": 3,
   "id": "903a1305-b829-4a2f-8339-a2f550c17eb7",
   "metadata": {},
   "outputs": [
    {
     "name": "stdout",
     "output_type": "stream",
     "text": [
      "Done pair 2 1\n",
      "Done pair 3 1\n",
      "Done pair 3 2\n",
      "Done pair 4 1\n",
      "Done pair 4 2\n",
      "Done pair 4 3\n",
      "Done pair 5 1\n",
      "Done pair 5 2\n",
      "Done pair 5 3\n",
      "Done pair 5 4\n"
     ]
    }
   ],
   "source": [
    "for i in np.arange(5)+1:\n",
    "    for j in range(1, i):\n",
    "        filename1 = '/global/homes/j/jharno/IA-infusion/HACC-Y1/GalCat/StageIV_nz/V0/GalCat_tomo{}_All_0.06GpAM_RA_Dec_g1_g2_w_z_good.asc'.format(i)\n",
    "        filename2 = '/global/homes/j/jharno/IA-infusion/HACC-Y1/GalCat/StageIV_nz/V0/GalCat_tomo{}_All_0.06GpAM_RA_Dec_g1_g2_w_z_good.asc'.format(j)\n",
    "        cat_1 = treecorr.Catalog(filename1, config, flip_g2='True')\n",
    "        cat_2 = treecorr.Catalog(filename2, config, flip_g2='True')\n",
    "        #gg = treecorr.GGCorrelation(nbins = 20, min_sep = 0.005, max_sep = 7, bin_slop=0.01) \n",
    "        gg = treecorr.GGCorrelation(nbins = 20, min_sep=0.5, max_sep=475.5, sep_units='arcmin',bin_slop=0.01)\n",
    "        gg.process(cat_1, cat_2)\n",
    "        #gg.process(cat_1, cat_2, metric = 'Arc')\n",
    "        gg.write('treecorr_output/cross_correlation_tomo{}_{}'.format(j,i))\n",
    "        print('Done pair',i,j)"
   ]
  },
  {
   "cell_type": "markdown",
   "id": "15d87f09-ec1e-420c-80c9-b2dbc42f2649",
   "metadata": {},
   "source": [
    "Here we show how to read the correlation functions saved to a file by TreeCorr"
   ]
  },
  {
   "cell_type": "code",
   "execution_count": 4,
   "id": "a38a4b8a-de4f-488c-bec6-1c647fa1bfa3",
   "metadata": {},
   "outputs": [],
   "source": [
    "gg = treecorr.GGCorrelation(nbins = 20,\n",
    "                       min_sep = 0.03333333, #2 arcmin\n",
    "                       max_sep = 1.66666667)\n",
    "gg.read('treecorr_output/cross_correlation_tomo3_3')"
   ]
  }
 ],
 "metadata": {
  "kernelspec": {
   "display_name": "desc-python-dev",
   "language": "python",
   "name": "desc-python-dev"
  },
  "language_info": {
   "codemirror_mode": {
    "name": "ipython",
    "version": 3
   },
   "file_extension": ".py",
   "mimetype": "text/x-python",
   "name": "python",
   "nbconvert_exporter": "python",
   "pygments_lexer": "ipython3",
   "version": "3.8.12"
  }
 },
 "nbformat": 4,
 "nbformat_minor": 5
}
