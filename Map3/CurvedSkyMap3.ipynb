{
 "cells": [
  {
   "cell_type": "code",
   "execution_count": 1,
   "id": "5885c855-a217-4fe8-9c96-eb92b412c730",
   "metadata": {},
   "outputs": [],
   "source": [
    "import numpy as np\n",
    "from scipy import *\n",
    "from pylab import *\n",
    "import healpy as hp\n",
    "import os\n",
    "from healpy import pixelfunc\n",
    "from aperture_mass_computer import aperture_mass_computer_curved_sky\n",
    "from helpers_plot import initPlot, finalizePlot, prepareMap3Plot"
   ]
  },
  {
   "cell_type": "markdown",
   "id": "3a104b70-cfb6-4424-9b80-68a33c294ba3",
   "metadata": {},
   "source": [
    "# Measurements of $\\langle M_\\mathrm{ap}^3\\rangle$ from curved sky fields\n",
    "In this notebook we take curved sky fields from the simulations and measure the third-order aperture statistics using the kappa-maps\n",
    "\n",
    "Author: Laila Linke\n",
    "\n",
    "The Map3 measurement code is developed together with Sven Heydenreich, the Read-in of the simulations is based on the example notebook by Joachim Harnois-Déraps and Jia Liu"
   ]
  },
  {
   "cell_type": "code",
   "execution_count": 2,
   "id": "d901346e-6fac-4ddf-9459-2f1006f16ad9",
   "metadata": {},
   "outputs": [],
   "source": [
    "thetas=[4,8,16,32] # Aperture radii to use [arcmin]\n",
    "Nthetas=len(thetas)\n",
    "# Filenames\n",
    "\n",
    "######## curved sky map\n",
    "fn_map_curved = '/global/homes/j/jharno/IA-infusion/SkySim5000/kappa/1.0060kappa.npy'\n",
    "\n",
    "######## shear maps\n",
    "fn_gamma1=\"/global/homes/j/jharno/IA-infusion/SkySim5000/shear/1.0060gamma1.npy\"\n",
    "fn_gamma2=\"/global/homes/j/jharno/IA-infusion/SkySim5000/shear/1.0060gamma2.npy\""
   ]
  },
  {
   "cell_type": "markdown",
   "id": "d336714d-731c-4422-b02c-ad59f4de0f98",
   "metadata": {},
   "source": [
    "## Measurement from Kappa map"
   ]
  },
  {
   "cell_type": "code",
   "execution_count": 3,
   "id": "8aabf72d-1e73-4107-a8d1-b39de7b179e5",
   "metadata": {},
   "outputs": [],
   "source": [
    "# Load Kappa Map\n",
    "hpmap = np.load(fn_map_curved)"
   ]
  },
  {
   "cell_type": "code",
   "execution_count": 4,
   "id": "9a827fa7-b71a-4e69-8130-3955a253f2b4",
   "metadata": {},
   "outputs": [],
   "source": [
    "# Downgrade the kappa map\n",
    "nside=2**11\n",
    "hpmap_degrad=hp.ud_grade(hpmap, nside)"
   ]
  },
  {
   "cell_type": "code",
   "execution_count": 5,
   "id": "042c34db-61b6-4b88-893d-381f12dbfbae",
   "metadata": {},
   "outputs": [
    {
     "data": {
      "text/plain": [
       "0.42943580147717575"
      ]
     },
     "execution_count": 5,
     "metadata": {},
     "output_type": "execute_result"
    }
   ],
   "source": [
    "hp.nside2resol(nside, arcmin = True)  "
   ]
  },
  {
   "cell_type": "code",
   "execution_count": 6,
   "id": "7681d7cc-f256-4675-80b7-0ef37959b376",
   "metadata": {},
   "outputs": [],
   "source": [
    "# Set masks (only use an octant)\n",
    "mask=np.where(hpmap_degrad!=0)\n",
    "outside=np.where(hpmap_degrad==0)"
   ]
  },
  {
   "cell_type": "code",
   "execution_count": null,
   "id": "347f0206-e270-44f1-a030-c2c8eb348b86",
   "metadata": {},
   "outputs": [
    {
     "name": "stderr",
     "output_type": "stream",
     "text": [
      "WARNING: AstropyDeprecationWarning: \"verbose\" was deprecated in version 1.15.0 and will be removed in a future version.  [aperture_mass_computer]\n"
     ]
    }
   ],
   "source": [
    "# Calculate the Aperture Mass Maps from the kappa\n",
    "Maps=[]\n",
    "for i,theta in enumerate(thetas):\n",
    "    ac=aperture_mass_computer_curved_sky(nside, theta)\n",
    "    map=ac.Map_fft_from_kappa(hpmap_degrad)\n",
    "\n",
    "    map[outside]=0\n",
    "    Maps.append(map)\n"
   ]
  },
  {
   "cell_type": "code",
   "execution_count": null,
   "id": "b1c3aa90-b1d4-4165-af3f-11c911fa5468",
   "metadata": {},
   "outputs": [],
   "source": [
    "# Plotting of Aperture Mass Maps\n",
    "for i in range(Nthetas):\n",
    "    map=Maps[i]\n",
    "    hp.mollview(map, title=r\"$\\theta_\\mathrm{ap}$=\"+f\"{thetas[i]} arcmin\", nest=False)\n",
    "    hp.graticule()"
   ]
  },
  {
   "cell_type": "code",
   "execution_count": null,
   "id": "220516de-adeb-4898-b675-985f63821f97",
   "metadata": {},
   "outputs": [],
   "source": [
    "# Calculate third-order aperture statistics\n",
    "\n",
    "Map3=np.zeros(Nthetas*(Nthetas+1)*(Nthetas+2)//6)\n",
    "counter=0\n",
    "for i in range(Nthetas):\n",
    "    for j in range(i, Nthetas):\n",
    "        for k in range(j, Nthetas):\n",
    "            map3_mean=np.mean(Maps[i][mask]*Maps[j][mask]*Maps[k][mask])\n",
    "            Map3[counter]=map3_mean\n",
    "            counter+=1\n",
    "            \n",
    "np.savetxt(f\"MapMapMap_fromCurved_Kappa_nside_{nside}.dat\", Map3)"
   ]
  },
  {
   "cell_type": "code",
   "execution_count": null,
   "id": "d562f475-7448-466e-8bb6-a8bd725e038f",
   "metadata": {},
   "outputs": [],
   "source": [
    "# Plot <Map³>\n",
    "initPlot(usetex=False)\n",
    "fig, ax=plt.subplots()\n",
    "prepareMap3Plot(ax)\n",
    "ax.plot(Map3)\n",
    "ax.set_ylabel(r\"$\\langle M_\\mathrm{ap}^3 \\rangle$\")\n",
    "finalizePlot(ax, title=r\"$\\langle M_\\mathrm{ap}^3\\rangle$ from curved sky \"+f\"nside={nside}\", outputFn=f\"MapMapMap_fromCurved_Kappa_nside_{nside}.png\")"
   ]
  },
  {
   "cell_type": "code",
   "execution_count": null,
   "id": "87dcaef3-708a-4dba-a8c5-22a5ae55ee05",
   "metadata": {},
   "outputs": [],
   "source": []
  }
 ],
 "metadata": {
  "kernelspec": {
   "display_name": "desc-python",
   "language": "python",
   "name": "desc-python"
  },
  "language_info": {
   "codemirror_mode": {
    "name": "ipython",
    "version": 3
   },
   "file_extension": ".py",
   "mimetype": "text/x-python",
   "name": "python",
   "nbconvert_exporter": "python",
   "pygments_lexer": "ipython3",
   "version": "3.8.12"
  }
 },
 "nbformat": 4,
 "nbformat_minor": 5
}
