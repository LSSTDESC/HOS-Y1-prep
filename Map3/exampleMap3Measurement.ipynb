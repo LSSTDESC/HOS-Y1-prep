{
 "cells": [
  {
   "cell_type": "markdown",
   "id": "3712e33a-e662-48bc-ba6b-e081c12846bd",
   "metadata": {},
   "source": [
    "# Example notebook for measurement of $\\langle M_\\mathrm{ap}^3\\rangle$"
   ]
  },
  {
   "cell_type": "markdown",
   "id": "ec0c745c-7cf7-4f5f-bf78-1a49e56b98dc",
   "metadata": {},
   "source": [
    "In this notebook we demonstrate how to use the Map³-measurement for convergence-healpy maps. The measurement method is based on FFT.\n",
    "\n",
    "Authors: Laila Linke, Lucas Porth\n",
    "\n",
    "The Map3 measurement code was developed together with Sven Heydenreich and Pierre Burger"
   ]
  },
  {
   "cell_type": "code",
   "execution_count": 1,
   "id": "cd0ed31d-5662-42cd-9c88-de6b192f2576",
   "metadata": {},
   "outputs": [
    {
     "name": "stderr",
     "output_type": "stream",
     "text": [
      "\n",
      "WARNING: version mismatch between CFITSIO header (v4.000999999999999) and linked library (v4.01).\n",
      "\n",
      "\n",
      "WARNING: version mismatch between CFITSIO header (v4.000999999999999) and linked library (v4.01).\n",
      "\n",
      "\n",
      "WARNING: version mismatch between CFITSIO header (v4.000999999999999) and linked library (v4.01).\n",
      "\n"
     ]
    }
   ],
   "source": [
    "# Import of necessary functions\n",
    "from aperture_mass_computer import measureMap3FromKappa\n",
    "import healsparse"
   ]
  },
  {
   "cell_type": "code",
   "execution_count": 2,
   "id": "37c2a6f0-bc85-444d-a0af-e247866876c3",
   "metadata": {},
   "outputs": [],
   "source": [
    "# User specifications\n",
    "thetas=[4,8,16,32] # Aperture scale radii in arcmin\n",
    "\n",
    "nshells=[19,50,106] # Different shell numbers\n",
    "nsides=[2048] # Different choices for nside of aperture mass maps\n",
    "tomobins=[0,1,2,3,4] # Tomographic bins\n",
    "seeds=[0,1,2] # Different seeds\n",
    "\n"
   ]
  },
  {
   "cell_type": "markdown",
   "id": "a4a5e052-e53d-4897-a9be-78b99e04e7d9",
   "metadata": {},
   "source": [
    "The following code will go through all relevant combinations of nshells, nsides, tomobin combinations and seeds and measure the Map3 for the relevant HACC convergence maps. The output is written into the folder `Results`."
   ]
  },
  {
   "cell_type": "code",
   "execution_count": null,
   "id": "52c12a0a-5ea6-4999-9c25-6fe08a7ae29d",
   "metadata": {},
   "outputs": [
    {
     "name": "stdout",
     "output_type": "stream",
     "text": [
      "Using nside 2048\n",
      "Using nshell 19\n",
      "Using seed 0\n",
      "Using tomobin 0\n",
      "/global/cscratch1/sd/xuod/HOS_sims/L845/HACC150/shells_z19_subsampleauto_groupiso/kappa_Euclid_dndz_fu08_bin1-5/kappa_hacc_nz0_nside4096_seed0.fits\n"
     ]
    },
    {
     "name": "stderr",
     "output_type": "stream",
     "text": [
      "WARNING: AstropyDeprecationWarning: \"verbose\" was deprecated in version 1.15.0 and will be removed in a future version.  [aperture_mass_computer]\n"
     ]
    },
    {
     "name": "stdout",
     "output_type": "stream",
     "text": [
      "Using tomobin 1\n",
      "/global/cscratch1/sd/xuod/HOS_sims/L845/HACC150/shells_z19_subsampleauto_groupiso/kappa_Euclid_dndz_fu08_bin1-5/kappa_hacc_nz1_nside4096_seed0.fits\n",
      "Using tomobin 2\n",
      "/global/cscratch1/sd/xuod/HOS_sims/L845/HACC150/shells_z19_subsampleauto_groupiso/kappa_Euclid_dndz_fu08_bin1-5/kappa_hacc_nz2_nside4096_seed0.fits\n",
      "Using tomobin 3\n",
      "/global/cscratch1/sd/xuod/HOS_sims/L845/HACC150/shells_z19_subsampleauto_groupiso/kappa_Euclid_dndz_fu08_bin1-5/kappa_hacc_nz3_nside4096_seed0.fits\n",
      "Using tomobin 4\n",
      "/global/cscratch1/sd/xuod/HOS_sims/L845/HACC150/shells_z19_subsampleauto_groupiso/kappa_Euclid_dndz_fu08_bin1-5/kappa_hacc_nz4_nside4096_seed0.fits\n",
      "Using seed 1\n",
      "Using tomobin 0\n",
      "/global/cscratch1/sd/xuod/HOS_sims/L845/HACC150/shells_z19_subsampleauto_groupiso/kappa_Euclid_dndz_fu08_bin1-5/kappa_hacc_nz0_nside4096_seed1.fits\n",
      "Using tomobin 1\n",
      "/global/cscratch1/sd/xuod/HOS_sims/L845/HACC150/shells_z19_subsampleauto_groupiso/kappa_Euclid_dndz_fu08_bin1-5/kappa_hacc_nz1_nside4096_seed1.fits\n",
      "Using tomobin 2\n",
      "/global/cscratch1/sd/xuod/HOS_sims/L845/HACC150/shells_z19_subsampleauto_groupiso/kappa_Euclid_dndz_fu08_bin1-5/kappa_hacc_nz2_nside4096_seed1.fits\n",
      "Using tomobin 3\n",
      "/global/cscratch1/sd/xuod/HOS_sims/L845/HACC150/shells_z19_subsampleauto_groupiso/kappa_Euclid_dndz_fu08_bin1-5/kappa_hacc_nz3_nside4096_seed1.fits\n",
      "Using tomobin 4\n",
      "/global/cscratch1/sd/xuod/HOS_sims/L845/HACC150/shells_z19_subsampleauto_groupiso/kappa_Euclid_dndz_fu08_bin1-5/kappa_hacc_nz4_nside4096_seed1.fits\n",
      "Using seed 2\n",
      "Using tomobin 0\n",
      "/global/cscratch1/sd/xuod/HOS_sims/L845/HACC150/shells_z19_subsampleauto_groupiso/kappa_Euclid_dndz_fu08_bin1-5/kappa_hacc_nz0_nside4096_seed2.fits\n",
      "Using tomobin 1\n",
      "/global/cscratch1/sd/xuod/HOS_sims/L845/HACC150/shells_z19_subsampleauto_groupiso/kappa_Euclid_dndz_fu08_bin1-5/kappa_hacc_nz1_nside4096_seed2.fits\n",
      "Using tomobin 2\n",
      "/global/cscratch1/sd/xuod/HOS_sims/L845/HACC150/shells_z19_subsampleauto_groupiso/kappa_Euclid_dndz_fu08_bin1-5/kappa_hacc_nz2_nside4096_seed2.fits\n",
      "Using tomobin 3\n",
      "/global/cscratch1/sd/xuod/HOS_sims/L845/HACC150/shells_z19_subsampleauto_groupiso/kappa_Euclid_dndz_fu08_bin1-5/kappa_hacc_nz3_nside4096_seed2.fits\n",
      "Using tomobin 4\n",
      "/global/cscratch1/sd/xuod/HOS_sims/L845/HACC150/shells_z19_subsampleauto_groupiso/kappa_Euclid_dndz_fu08_bin1-5/kappa_hacc_nz4_nside4096_seed2.fits\n",
      "Using nshell 50\n",
      "Using seed 0\n",
      "Using tomobin 0\n",
      "/global/cscratch1/sd/xuod/HOS_sims/L845/HACC150/shells_z50_subsampleauto_groupiso/kappa_Euclid_dndz_fu08_bin1-5/kappa_hacc_nz0_nside4096_seed0.fits\n"
     ]
    }
   ],
   "source": [
    "for nside in nsides:\n",
    "    print(f\"Using nside {nside}\")\n",
    "    for nshell in nshells:\n",
    "        print(f\"Using nshell {nshell}\")\n",
    "        for seed in seeds:\n",
    "            print(f\"Using seed {seed}\")\n",
    "            # As Map3(theta1,theta2,theta3,z1,z2,z3) is independent under permutations of the theta_i and zi\n",
    "            # we choose z1<=z2<=z3 in this loop and theta1<=theta2<=theta3 in the \n",
    "            # `measureMap3FromKappa_crossbins` function\n",
    "            for elt1,tomobin1 in enumerate(tomobins):\n",
    "                for elt2,tomobin2 in enumerate(tomobins[elt1:]):\n",
    "                    for elt3,tomobin3 in enumerate(tomobins[elt1+elt2:]):\n",
    "                        print(f\"Using tomobins {tomobin1,tomobin2,tomobin3}\")\n",
    "\n",
    "                        # Directories for data and output\n",
    "                        dir_data=f\"/global/cscratch1/sd/xuod/HOS_sims/L845/HACC150/shells_z{nshell}_subsampleauto_groupiso/kappa_Euclid_dndz_fu08_bin1-5/\"\n",
    "                        dir_results='Results/'\n",
    "\n",
    "                        # Input filenames\n",
    "                        fn_map1=dir_data+f\"kappa_hacc_nzs{tomobin1}_nside4096_seed{seed}.fits\"\n",
    "                        fn_map2=dir_data+f\"kappa_hacc_nzs{tomobin2}_nside4096_seed{seed}.fits\"\n",
    "                        fn_map3=dir_data+f\"kappa_hacc_nzs{tomobin3}_nside4096_seed{seed}.fits\"\n",
    "                        #Output filename\n",
    "                        fn_out=dir_results+f\"Map3_HACC_KappaMap_curved_nside_{nside}_nshells_{nshell}_tomo_{tomobin1}_{tomobin2}_{tomobin3}_seed_{seed}.dat\"\n",
    "\n",
    "                        # Read healsparse map1 and convert them to healpix\n",
    "                        hsp_kappa1=healsparse.HealSparseMap.read(fn_map1)\n",
    "                        kappa1=hsp_kappa1.generate_healpix_map()\n",
    "                        hsp_kappa2=healsparse.HealSparseMap.read(fn_map2)\n",
    "                        kappa2=hsp_kappa2.generate_healpix_map()\n",
    "                        hsp_kappa3=healsparse.HealSparseMap.read(fn_map3)\n",
    "                        kappa3=hsp_kappa3.generate_healpix_map()\n",
    "\n",
    "                        # Do measurement\n",
    "                        measureMap3FromKappa_crossbins(kappa1, kappa2, kappa3, thetas=thetas, nside=nside, fn_out=fn_out, verbose=False, doPlots=False)"
   ]
  },
  {
   "cell_type": "code",
   "execution_count": null,
   "id": "ea44c67c-2710-40a4-8ac0-d2bb813e2e79",
   "metadata": {},
   "outputs": [],
   "source": []
  }
 ],
 "metadata": {
  "kernelspec": {
   "display_name": "desc-python",
   "language": "python",
   "name": "desc-python"
  },
  "language_info": {
   "codemirror_mode": {
    "name": "ipython",
    "version": 3
   },
   "file_extension": ".py",
   "mimetype": "text/x-python",
   "name": "python",
   "nbconvert_exporter": "python",
   "pygments_lexer": "ipython3",
   "version": "3.8.12"
  }
 },
 "nbformat": 4,
 "nbformat_minor": 5
}
