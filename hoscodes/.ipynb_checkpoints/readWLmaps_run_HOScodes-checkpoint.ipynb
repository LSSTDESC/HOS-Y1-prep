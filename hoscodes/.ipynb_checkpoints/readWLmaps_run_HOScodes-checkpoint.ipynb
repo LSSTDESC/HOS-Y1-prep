{
 "cells": [
  {
   "cell_type": "markdown",
   "id": "6122320f-1bed-4fb3-b2d8-6ddbafba5ca2",
   "metadata": {
    "tags": []
   },
   "source": [
    "# High order statistic codes"
   ]
  },
  {
   "cell_type": "markdown",
   "id": "b85574b8-47be-4d17-8274-13b76118b9e1",
   "metadata": {},
   "source": [
    "Notebook for reading weak lensing maps maps and to run High order statistics code\n",
    "All maps and codes are produced by the DESC-HOS topical team (https://github.com/LSSTDESC/HOS-Y1-prep)"
   ]
  },
  {
   "cell_type": "markdown",
   "id": "5ce73198-614b-4910-b20d-0a8079f956bd",
   "metadata": {},
   "source": [
    "- <font color='green'>map2alm </font>\n",
    "- <font color='green'>Map3</font>\n",
    "- <font color='green'>PDF_Peaks_Minima</font> -> runs in smoothed map only\n",
    "- <font color='green'>integrated3PCF  </font> -> needs shear catalogue\n",
    "- <font color='green'> DSS </font> -> needs foreground catalogue"
   ]
  },
  {
   "cell_type": "code",
   "execution_count": 1,
   "id": "b15d3b61-4666-485b-af0d-ca08298898cc",
   "metadata": {},
   "outputs": [
    {
     "name": "stdout",
     "output_type": "stream",
     "text": [
      "/global/u2/j/jatorres\n"
     ]
    }
   ],
   "source": [
    "cd"
   ]
  },
  {
   "cell_type": "code",
   "execution_count": 2,
   "id": "56d6e842-6e8b-4c97-b5a8-64cde6a7ba05",
   "metadata": {},
   "outputs": [
    {
     "name": "stdout",
     "output_type": "stream",
     "text": [
      "/global/u2/j/jatorres/HOS-Y1-prep/hoscodes\n"
     ]
    }
   ],
   "source": [
    "cd ./HOS-Y1-prep/hoscodes/"
   ]
  },
  {
   "cell_type": "code",
   "execution_count": 3,
   "id": "8cb5323d-18fc-4a6b-8213-6f1036f05739",
   "metadata": {},
   "outputs": [],
   "source": [
    "import numpy as np \n",
    "import healpy as hp\n",
    "import matplotlib.pyplot as plt"
   ]
  },
  {
   "cell_type": "code",
   "execution_count": 4,
   "id": "3041976c-9d97-48b0-8733-e38e7432ad4e",
   "metadata": {
    "tags": []
   },
   "outputs": [],
   "source": [
    "import healsparse\n",
    "import random\n",
    "import os\n",
    "from HOScodes import *"
   ]
  },
  {
   "cell_type": "markdown",
   "id": "ede5cbed-c09d-49a7-adee-f1f472d68e5a",
   "metadata": {},
   "source": [
    "# SkySim5000"
   ]
  },
  {
   "cell_type": "code",
   "execution_count": 5,
   "id": "a0eed65a-1e9d-47fa-b3f3-1af63bbca12d",
   "metadata": {},
   "outputs": [],
   "source": [
    "#Kappa maps SkySim5000 \n",
    "raw_maps_path = '/global/cscratch1/sd/jatorres/KappaMapsLR/SkySim5000/'\n",
    "sm_maps_path = '/global/cscratch1/sd/jatorres/smoothed_maps/'\n",
    "nside= 4096# We down the original resolution (NSIDE=8192) to the one used by the other maps\n",
    "thetas=[4,8,16,32] #Aperture radii Map3\n",
    "nshells = 57\n",
    "seed=0\n",
    "nzs='Euclid_dndz_fu08_bin1-5'\n",
    "\n",
    "filenames = [raw_maps_path+'SkySim5000_'+nzs+'_kappa_tomo%d.fits'%l for l in range(1,6)]\n",
    "filenames_smoothed = [sm_maps_path+\"smoothed_map_SkySim5000_kappa_\"+nzs+\"_tomo%d.fits\"%i for i in range(1,6)]"
   ]
  },
  {
   "cell_type": "code",
   "execution_count": 6,
   "id": "b9537529-2cba-4e99-8c96-ca04d8e94e90",
   "metadata": {},
   "outputs": [],
   "source": [
    "kappa_maps_SkySim5000 = hoscodes(filenames=filenames,nshells=nshells,seed=0,nzs=nzs,nside=nside)\n",
    "#smooth_kappa_maps_Skysim5000 = hoscodes(filenames=filenames_smoothed,nshells=nshells,seed=0,nzs=nzs,nside=nside)"
   ]
  },
  {
   "cell_type": "code",
   "execution_count": 7,
   "id": "c30ecbff-aec8-493b-8d6e-3f216876b96f",
   "metadata": {},
   "outputs": [],
   "source": [
    "kappa_maps_SkySim5000.readmaps_healpy()\n",
    "#smoothed_kappa_maps_SkySim5000.readmaps_healpy()"
   ]
  },
  {
   "cell_type": "code",
   "execution_count": null,
   "id": "e81430b9-8a70-4fed-82e0-c33ce9d7934a",
   "metadata": {},
   "outputs": [],
   "source": [
    "Map2 = []\n",
    "Map3 = []\n",
    "PDF = []\n",
    "peaks = []\n",
    "minima = []\n",
    "for i in range(kappa_maps_SkySim5000.Nbins):\n",
    "    kappa_maps_SkySim5000.run_map2alm(kappa_maps_SkySim5000.mapbins[i],i)\n",
    "    kappa_maps_SkySim5000.run_map3(kappa_maps_SkySim5000.mapbins[i],i,nside=kappa_maps_SkySim5000.nside,thetas=thetas)\n",
    "    #The following codes run on a smoothed map as a healpy ma instance\n",
    "#    kappa_masked_smooth = hp.ma(kappa_maps_SkySim5000_smoothed.mapbins[i])\n",
    "#    pdf_tbin,peaks_tbin,minima_tbin = .run_PDFPeaksMinima(kappa_masked_smooth,i)\n",
    "    #PDF.append(pdf_tbin)\n",
    "    #peaks.append(peaks_tbin)\n",
    "    #minima.append(minima_tbin)"
   ]
  },
  {
   "cell_type": "code",
   "execution_count": null,
   "id": "0656f035-dfee-4ff3-ba63-6168c988e8ec",
   "metadata": {},
   "outputs": [],
   "source": [
    "#multipoles\n",
    "l = np.arange(0,5001)\n",
    "f,ax = plt.subplots(1,5,figsize=(20,4),sharex=True,sharey=True)\n",
    "for i in range(SkySim5000_results.Nbins):\n",
    "    ax[i].plot(l,Map2[i],'ko',ms=0.5)\n",
    "    ax[i].set_xlabel(r'$\\ell$ multipole')\n",
    "ax[0].set_ylabel(r'$C_{\\ell}$')\n",
    "ax[0].set_yscale('log')\n",
    "ax[0].set_xscale('log')\n",
    "plt.tight_layout()\n",
    "plt.show()"
   ]
  },
  {
   "cell_type": "markdown",
   "id": "11b7422b-e775-42de-8902-45e8979b7620",
   "metadata": {},
   "source": [
    "# HACC150-Y1"
   ]
  },
  {
   "cell_type": "code",
   "execution_count": null,
   "id": "e18e0318-7924-4202-bbe1-9a2a6fd6c732",
   "metadata": {},
   "outputs": [],
   "source": [
    "#map2 nside\n",
    "thetas=[4,8,16,32] # Aperture scale radii in arcmin\n",
    "nshells = [19,50,106]\n",
    "#\n",
    "nzs = 'kappa_Euclid_dndz_fu08_bin1-5'\n",
    "seed = [0,1,2] \n",
    "\n",
    "path = '/global/cscratch1/sd/xuod/HOS_sims/L845/HACC150/'\n",
    "dir_sm = '/global/cscratch1/sd/jatorres/smoothed_maps/'"
   ]
  },
  {
   "cell_type": "markdown",
   "id": "2efd056d-542c-457f-af4a-46122b5e9aa2",
   "metadata": {},
   "source": [
    "## nshell = 50"
   ]
  },
  {
   "cell_type": "code",
   "execution_count": null,
   "id": "c8dc8a3c-8bfa-4131-b25d-a36dce41ee8b",
   "metadata": {},
   "outputs": [],
   "source": [
    "nshell=nshells[1]\n",
    "filenames = [os.path.join(path,\n",
    "                          f'shells_z{nshell}_subsampleauto_groupiso/{nzs}/kappa_hacc_nz%d_nside4096_seed{seed}.fits'%l) for l in range(5)]\n"
   ]
  },
  {
   "cell_type": "code",
   "execution_count": null,
   "id": "c6cfb5e2-ef58-4c43-bfd3-0fc7d66700f1",
   "metadata": {},
   "outputs": [],
   "source": [
    "kappa_maps_HACC150 = kappamaps(filenames=filenames,nshells=nshell,seed=0,nzs=nzs,nside=nside)\n",
    "kappa_maps_HACC150.readmaps_fits()"
   ]
  },
  {
   "cell_type": "code",
   "execution_count": null,
   "id": "38cf805e-0440-46d3-837b-72e2a2a1b6fa",
   "metadata": {},
   "outputs": [],
   "source": [
    "HACC150_results = hoscodes(kappa_maps_HACC150)"
   ]
  },
  {
   "cell_type": "code",
   "execution_count": null,
   "id": "b156b49d-f820-4deb-bc14-d0124219f73c",
   "metadata": {},
   "outputs": [],
   "source": [
    "Map2_HACC150 = []\n",
    "#Map3 = []\n",
    "#PDF = []\n",
    "#peaks = []\n",
    "#minima = []\n",
    "for i in range(HACC150_results.Nbins):\n",
    "    Map2_HACC150.append(HACC150_results.run_map2alm(kappa_maps_HACC150.mapbins[i],i))\n",
    "    #Map3.append(HACC150_results.run_map3(kappa_maps.mapbins[i],i,thetas=thetas))\n",
    "    #The following codes run on a smoothed map as a healpy ma instance\n",
    "#    kappa_masked_smooth = hp.ma(kappa_maps_HACC150_smoothed.mapbins[i])\n",
    "#    pdf_tbin,peaks_tbin,minima_tbin = HACC150_sm_results.run_PDFPeaksMinima(kappa_masked_smooth,i)\n",
    "#    PDF.append(pdf_tbin)\n",
    "#    peaks.append(peaks_tbin)\n",
    "#    minima.append(minima_tbin)"
   ]
  },
  {
   "cell_type": "code",
   "execution_count": null,
   "id": "d9a1d0ab-ea0c-4eba-a6f8-dae0f5ab4304",
   "metadata": {},
   "outputs": [],
   "source": [
    "#calculate the pdf of the smooth map\n",
    "\n",
    "#choose kappa bins\n",
    "bins=np.linspace(-0.1-0.001,0.1+0.001,201) \n",
    "binmids=(bins[1:]+bins[:-1])/2\n",
    "#plot results\n",
    "f,ax = plt.subplots(1,5,figsize=(20,4),sharex=True,sharey=True)\n",
    "for i in range(HACC150_results.Nbins):\n",
    "    ax[i].plot(binmids,PDF[i],label='smoothed')\n",
    "    ax[i].set_xlabel('$\\\\kappa$')\n",
    "ax[-1].legend()\n",
    "ax[0].set_xlim(-0.05,0.05)\n",
    "ax[0].set_ylabel('PDF')\n",
    "plt.tight_layout()\n",
    "plt.show()"
   ]
  },
  {
   "cell_type": "code",
   "execution_count": null,
   "id": "abacc9d8-2dd4-4d68-ac6e-57365dbe12c7",
   "metadata": {},
   "outputs": [],
   "source": [
    "#plot the peak and minima abundances\n",
    "#choose kappa bins\n",
    "bins=np.linspace(-0.02,0.04,50) #typical ranges and number of bins\n",
    "binmids=(bins[1:]+bins[:-1])/2\n",
    "\n",
    "\n",
    "f,ax = plt.subplots(1,5,figsize=(20,4),sharex=True,sharey=True)\n",
    "for i in range(HACC150_results.Nbins):\n",
    "    counts_peaks,bins=np.histogram(peaks[i][:,2],density=False,bins=bins)\n",
    "    counts_minima,bins=np.histogram(minima[i][:,2],density=False,bins=bins)\n",
    "#plot results\n",
    "    ax[i].semilogy(binmids,counts_peaks,label='Peaks')\n",
    "    ax[i].semilogy(binmids,counts_minima,label='Minima')\n",
    "    ax[i].set_xlabel('$\\\\kappa$')\n",
    "ax[-1].legend()\n",
    "ax[0].set_xlim(-0.02,0.04)\n",
    "ax[0].set_ylabel('Extrema counts')\n",
    "plt.show()"
   ]
  },
  {
   "cell_type": "markdown",
   "id": "2a88cf78-299a-4490-a1b2-22a65910f6aa",
   "metadata": {},
   "source": [
    "## nshells = 19, 106"
   ]
  },
  {
   "cell_type": "code",
   "execution_count": null,
   "id": "def369ae-3f2f-46e5-bd5b-37fb97725aec",
   "metadata": {},
   "outputs": [],
   "source": [
    "nshell=nshells[0]\n",
    "filenames = [os.path.join(path,\n",
    "                          f'shells_z{nshell}_subsampleauto_groupiso/{nzs}/kappa_hacc_nz%d_nside4096_seed{seed}.fits'%l) for l in range(5)]\n",
    "kappa_maps_HACC150_nshells_19 = kappamaps(filenames=filenames,nshells=nshell,seed=0,nzs=nzs,nside=nside)\n",
    "kappa_maps_HACC150_nshells_19.readmaps_fits()\n",
    "\n"
   ]
  },
  {
   "cell_type": "code",
   "execution_count": null,
   "id": "a9317337-1b8d-412a-a5c9-99b1458ae221",
   "metadata": {},
   "outputs": [],
   "source": [
    "nshell=nshells[2]\n",
    "filenames = [os.path.join(path,\n",
    "                          f'shells_z{nshell}_subsampleauto_groupiso/{nzs}/kappa_hacc_nz%d_nside4096_seed{seed}.fits'%l) for l in range(5)]\n",
    "kappa_maps_HACC150_nshells_106 = kappamaps(filenames=filenames,nshells=nshell,seed=0,nzs=nzs,nside=nside)\n",
    "kappa_maps_HACC150_nshells_106.readmaps_fits()\n",
    "\n"
   ]
  },
  {
   "cell_type": "code",
   "execution_count": null,
   "id": "22b5150f-bb07-41f1-bf2d-a807c52ffa8f",
   "metadata": {},
   "outputs": [],
   "source": [
    "HACC150_results_nshells_19 = hoscodes(kappa_maps_HACC150_nshells_19)\n",
    "HACC150_results_nshells_106 = hoscodes(kappa_maps_HACC150_nshells_106)"
   ]
  },
  {
   "cell_type": "code",
   "execution_count": null,
   "id": "d7b5aaa3-7257-4b37-adfe-408a45384310",
   "metadata": {},
   "outputs": [],
   "source": [
    "Map2_HACC150_nshells19 = []\n",
    "Map2_HACC150_nshells106 = []\n",
    "\n",
    "for i in range(HACC150_results.Nbins):\n",
    "    Map2_HACC150_nshells19.append(HACC150_results_nshells_19.run_map2alm(kappa_maps_HACC150_nshells_19.mapbins[i],i))\n",
    "    Map2_HACC150_nshells106.append(HACC150_results_nshells_106.run_map2alm(kappa_maps_HACC150_nshells_106.mapbins[i],i))\n"
   ]
  },
  {
   "cell_type": "code",
   "execution_count": null,
   "id": "bf114df5-9270-41b5-84e2-3157943bb4f3",
   "metadata": {},
   "outputs": [],
   "source": [
    "#multipoles\n",
    "l = np.arange(0,5001)\n",
    "f,ax = plt.subplots(1,5,figsize=(20,4),sharex=True,sharey=True)\n",
    "for i in range(HACC150_results.Nbins):\n",
    "    ax[i].plot(l,Map2_HACC150[i],'b-',ms=0.5,label='HAC150-Y1 N shells = 50')\n",
    "    ax[i].plot(l,Map2_HACC150_nshells19[i],'b:',ms=0.5,label='HAC150-Y1 N shells = 19')\n",
    "    ax[i].plot(l,Map2_HACC150_nshells106[i],'b--',ms=0.5,label='HAC150-Y1 N shells = 106')\n",
    "    ax[i].plot(l,Map2[i],'ro',ms=0.5,label='SkySim5000')\n",
    "    ax[i].set_xlabel(r'$\\ell$ multipole')\n",
    "ax[0].set_ylabel(r'$C_{\\ell}$')\n",
    "ax[0].set_yscale('log')\n",
    "ax[0].set_xscale('log')\n",
    "ax[-1].legend(loc=3)\n",
    "plt.tight_layout()\n",
    "plt.savefig('./Map2_SkySim5000_HAC150.pdf',bbox_inches='tight')\n",
    "plt.show()"
   ]
  },
  {
   "cell_type": "code",
   "execution_count": null,
   "id": "1b7c931a-e417-4f5f-a4b7-d98ca103e614",
   "metadata": {},
   "outputs": [],
   "source": []
  }
 ],
 "metadata": {
  "kernelspec": {
   "display_name": "NERSC Python",
   "language": "python",
   "name": "python3"
  },
  "language_info": {
   "codemirror_mode": {
    "name": "ipython",
    "version": 3
   },
   "file_extension": ".py",
   "mimetype": "text/x-python",
   "name": "python",
   "nbconvert_exporter": "python",
   "pygments_lexer": "ipython3",
   "version": "3.9.7"
  }
 },
 "nbformat": 4,
 "nbformat_minor": 5
}
