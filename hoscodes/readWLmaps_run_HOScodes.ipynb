{
 "cells": [
  {
   "cell_type": "markdown",
   "id": "6122320f-1bed-4fb3-b2d8-6ddbafba5ca2",
   "metadata": {},
   "source": [
    "# High order statistic codes"
   ]
  },
  {
   "cell_type": "markdown",
   "id": "b85574b8-47be-4d17-8274-13b76118b9e1",
   "metadata": {},
   "source": [
    "Notebook for reading weak lensing maps maps and to run High order statistics code\n",
    "All maps and codes are produced by the DESC-HOS topical team (https://github.com/LSSTDESC/HOS-Y1-prep)"
   ]
  },
  {
   "cell_type": "markdown",
   "id": "5ce73198-614b-4910-b20d-0a8079f956bd",
   "metadata": {},
   "source": [
    "- <font color='green'>map2alm </font>\n",
    "- <font color='green'>Map3</font>\n",
    "- <font color='green'>PDF_Peaks_Minima</font> -> runs in smoothed map\n",
    "- integrated3PCF -> needs shear catalogues\n",
    "- DSS -> needs foreground catalogues"
   ]
  },
  {
   "cell_type": "code",
   "execution_count": 1,
   "id": "56d6e842-6e8b-4c97-b5a8-64cde6a7ba05",
   "metadata": {},
   "outputs": [
    {
     "name": "stdout",
     "output_type": "stream",
     "text": [
      "/global/u2/j/jatorres/HOS-Y1-prep/hoscodes\n"
     ]
    }
   ],
   "source": [
    "cd ~/HOS-Y1-prep/hoscodes/"
   ]
  },
  {
   "cell_type": "code",
   "execution_count": 2,
   "id": "8cb5323d-18fc-4a6b-8213-6f1036f05739",
   "metadata": {},
   "outputs": [],
   "source": [
    "import numpy as np \n",
    "import matplotlib.pyplot as plt"
   ]
  },
  {
   "cell_type": "code",
   "execution_count": 3,
   "id": "3041976c-9d97-48b0-8733-e38e7432ad4e",
   "metadata": {
    "tags": []
   },
   "outputs": [],
   "source": [
    "import healsparse\n",
    "import random\n",
    "import os\n",
    "from HOScodes import *"
   ]
  },
  {
   "cell_type": "code",
   "execution_count": 10,
   "id": "e18e0318-7924-4202-bbe1-9a2a6fd6c732",
   "metadata": {},
   "outputs": [],
   "source": [
    "#map2 nside\n",
    "nside_c = 32\n",
    "#thetas=[4,8,16,32] # Aperture scale radii in arcmin\n",
    "nshells = [19,50,106]\n",
    "nside= 4096\n",
    "#tomobins=[0,1,2,3,4] # Tomographic bins\n",
    "snapshots = [[8,12,15,16],\n",
    "           [23,32,42,44],\n",
    "          [34,58,84,90]]\n",
    "nzs = 'kappa_zsnapshots'\n",
    "seed = 0 \n"
   ]
  },
  {
   "cell_type": "code",
   "execution_count": 11,
   "id": "9a6f4488-d957-4d75-9dec-6857a8c65c84",
   "metadata": {},
   "outputs": [],
   "source": [
    "#Path to maps\n",
    "path = '/global/cscratch1/sd/xuod/HOS_sims/L845/HACC150/'\n",
    "\n",
    "kappa_bins_n19 = []\n",
    "kappa_bins_n50 = []\n",
    "kappa_bins_n106 = []\n",
    "for s in range(4):\n",
    "    m1 = path+'shells_z'+str(nshells[0])+'_subsampleauto_groupiso/'+nzs+'/kappa_hacc_nz'+str(snapshots[0][s])+'_nside4096_seed'+str(seed)+'.fits'\n",
    "    m2 = path+'shells_z'+str(nshells[1])+'_subsampleauto_groupiso/'+nzs+'/kappa_hacc_nz'+str(snapshots[1][s])+'_nside4096_seed'+str(seed)+'.fits'\n",
    "    m3 = path+'shells_z'+str(nshells[2])+'_subsampleauto_groupiso/'+nzs+'/kappa_hacc_nz'+str(snapshots[1][s])+'_nside4096_seed'+str(seed)+'.fits'\n",
    "    kappa_bins_n19.append(m1)\n",
    "    kappa_bins_n50.append(m2)\n",
    "    kappa_bins_n106.append(m3)"
   ]
  },
  {
   "cell_type": "code",
   "execution_count": 12,
   "id": "9ec6da0b-bf90-46ec-b8e3-007166f54dd5",
   "metadata": {},
   "outputs": [],
   "source": [
    "kappa_maps_n19 = kappamaps(kappa_bins_n19,nshells[0],seed,nzs,nside)\n",
    "#kappa_maps_n50 = M.readmaps(kappa_bins_n50)\n",
    "#kappa_maps_n106 = M.readmaps(kappa_bins_n106)"
   ]
  },
  {
   "cell_type": "code",
   "execution_count": 13,
   "id": "a15a9e9b-4546-4d74-9e51-5f0fe60b6885",
   "metadata": {},
   "outputs": [],
   "source": [
    "#read maps using the HOScodes.readkappamaps class and start the hoscode class loading the map\n",
    "results = hoscodes(kappa_bins_n19,nshells[0],seed,nzs,nside)#We save the results here"
   ]
  },
  {
   "cell_type": "code",
   "execution_count": 14,
   "id": "b48610cf-8290-43f8-abd8-83f45d098310",
   "metadata": {},
   "outputs": [],
   "source": [
    "results.readmaps()"
   ]
  },
  {
   "cell_type": "code",
   "execution_count": 15,
   "id": "b25623f0-b49a-4a03-a996-6cc718db57c6",
   "metadata": {},
   "outputs": [],
   "source": [
    "#for run individual codes in a specific tomo bin (bins [0,5] -> in name Ntomo [1,6])\n",
    "map2alm_bin1 = results.run_map2alm(results.mapbins[0],Ntomo=1)#runs for input"
   ]
  },
  {
   "cell_type": "code",
   "execution_count": null,
   "id": "d87f8adb-d788-4b5f-9d26-27bd962f1ce7",
   "metadata": {},
   "outputs": [
    {
     "name": "stderr",
     "output_type": "stream",
     "text": [
      "WARNING: AstropyDeprecationWarning: \"verbose\" was deprecated in version 1.15.0 and will be removed in a future version.  [aperture_mass_computer]\n"
     ]
    }
   ],
   "source": [
    "map3alm_bin1 = results.run_map3(results.mapbins[0],Ntomo=1,theta=[4])#it takes time"
   ]
  },
  {
   "cell_type": "code",
   "execution_count": null,
   "id": "36e30a9e-9c61-4932-8d86-5e38946a53e4",
   "metadata": {},
   "outputs": [],
   "source": [
    "ls results/"
   ]
  },
  {
   "cell_type": "code",
   "execution_count": null,
   "id": "c6cfb5e2-ef58-4c43-bfd3-0fc7d66700f1",
   "metadata": {},
   "outputs": [],
   "source": []
  }
 ],
 "metadata": {
  "kernelspec": {
   "display_name": "NERSC Python",
   "language": "python",
   "name": "python3"
  },
  "language_info": {
   "codemirror_mode": {
    "name": "ipython",
    "version": 3
   },
   "file_extension": ".py",
   "mimetype": "text/x-python",
   "name": "python",
   "nbconvert_exporter": "python",
   "pygments_lexer": "ipython3",
   "version": "3.9.7"
  }
 },
 "nbformat": 4,
 "nbformat_minor": 5
}
