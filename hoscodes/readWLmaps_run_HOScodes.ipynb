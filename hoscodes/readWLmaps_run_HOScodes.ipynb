{
 "cells": [
  {
   "cell_type": "markdown",
   "id": "6122320f-1bed-4fb3-b2d8-6ddbafba5ca2",
   "metadata": {},
   "source": [
    "# High order statistic codes"
   ]
  },
  {
   "cell_type": "markdown",
   "id": "b85574b8-47be-4d17-8274-13b76118b9e1",
   "metadata": {},
   "source": [
    "Notebook for reading weak lensing maps maps and to run High order statistics code\n",
    "All maps and codes are produced by the DESC-HOS topical team (https://github.com/LSSTDESC/HOS-Y1-prep)"
   ]
  },
  {
   "cell_type": "markdown",
   "id": "5ce73198-614b-4910-b20d-0a8079f956bd",
   "metadata": {},
   "source": [
    "- <font color='green'>Shear-2pcf (auto;cross)</font> \n",
    "- <font color='green'>map2alm </font>\n",
    "- <font color='green'>Map3</font>\n",
    "- integrated3PCF\n",
    "- DSS\n",
    "- PDF_Peaks_Minima"
   ]
  },
  {
   "cell_type": "markdown",
   "id": "ccc7b97e-b5fc-481c-b371-449bc6f08072",
   "metadata": {},
   "source": [
    "all modules here"
   ]
  },
  {
   "cell_type": "code",
   "execution_count": 3,
   "id": "3041976c-9d97-48b0-8733-e38e7432ad4e",
   "metadata": {
    "tags": []
   },
   "outputs": [],
   "source": [
    "import treecorr\n",
    "#import pyccl as ccl\n",
    "import numpy as np"
   ]
  },
  {
   "cell_type": "code",
   "execution_count": 4,
   "id": "e18e0318-7924-4202-bbe1-9a2a6fd6c732",
   "metadata": {},
   "outputs": [],
   "source": [
    "#dictionary for treecorr.Catalogue input\n",
    "config = {'ra_col' : 1,\n",
    "          'dec_col' : 2,\n",
    "          'g1_col' : 3,\n",
    "          'g2_col' : 4,\n",
    "          'w_col' : 5,\n",
    "          'ra_units' : 'deg',\n",
    "          'dec_units' : 'deg'}\n",
    "#map2 nside\n",
    "nside_c = 32\n",
    "\n",
    "#Map^3 hyperparams.\n",
    "# User specifications\n",
    "thetas=[4,8,16,32] # Aperture scale radii in arcmin\n",
    "\n",
    "nshells=[19,50,106] # Different shell numbers\n",
    "nsides=[2048] # Different choices for nside of aperture mass maps\n",
    "tomobins=[0,1,2,3,4] # Tomographic bins\n",
    "seeds=[0,1,2] # Different seeds\n",
    "\n"
   ]
  },
  {
   "cell_type": "code",
   "execution_count": null,
   "id": "aab50868-97ab-4743-877c-18e210b0278a",
   "metadata": {},
   "outputs": [],
   "source": [
    "#python modules\n",
    "import numpy as np\n",
    "import pylab as pl\n",
    "import os\n"
   ]
  },
  {
   "cell_type": "code",
   "execution_count": 5,
   "id": "a1763302-eab0-46b9-a4d6-9047a59a61e9",
   "metadata": {},
   "outputs": [],
   "source": [
    "#dependecies modules\n",
    "from WLmaps import readshearsmaps\n",
    "from HOScodes import hoscodes\n",
    "import healsparse\n",
    "import healpy as hp"
   ]
  },
  {
   "cell_type": "code",
   "execution_count": 6,
   "id": "985abe50-44e3-45a1-80ab-1740cc0c1f05",
   "metadata": {},
   "outputs": [],
   "source": [
    "cat = readshearsmaps(dir_name='/global/homes/j/jharno/IA-infusion/HACC-Y1/GalCat/StageIV_nz/V0/seed0/',\n",
    "                     config=config)\n",
    "kappacat = readkappamaps(dir_name='/global/cscratch1/sd/xuod/HOS_sims/L845/HACC150/',\n",
    "                         nshells=106,\n",
    "                         seeds=1,\n",
    "                         nzs='kappa_zsnapshots')"
   ]
  },
  {
   "cell_type": "code",
   "execution_count": null,
   "id": "be2ca4b7-d01c-4de2-b7c9-9e36dc49b3d6",
   "metadata": {},
   "outputs": [],
   "source": [
    "#for integrated3pcf TODO: read this params. as dic. or param file\n",
    "filepath_map_data = './data/'\n",
    "n_g = '0.6'\n",
    "NSIDE = 2048\n",
    "\n",
    "tomo_Map = 'tomo3' # will be used for computing the aperture mass\n",
    "tomo_xiA = 'tomo3' # will be used for computing position dependent 2PCF\n",
    "tomo_xiB = 'tomo3' # will be used for computing position dependent 2PCF\n",
    "\n",
    "extension = 'bin_slop_0' # e.g. bin_slop_0, default_bin_slop\n",
    "if ('bin_slop_0' in extension):\n",
    "    bin_slop_val = 0\n",
    "    extension = '_' + extension\n",
    "elif ('default_bin_slop' in extension):\n",
    "    extension = '_' + extension\n",
    "\n",
    "do_2PCF = False\n",
    "min_sep_tc_xi = 5 # treecorr min sep in arcmins \n",
    "max_sep_tc_xi = 170 # treecorr max sep in arcmins\n",
    "nbins_tc_xi = 15 # treecorr no. of bins (should be an integer)\n",
    "\n",
    "theta_Q_arcmins = 90 # patch radius in arcmins \n",
    "theta_T_arcmins = 90 # patch radius in arcmins \n",
    "min_sep_tc = 5 # treecorr min sep in arcmins \n",
    "max_sep_tc = 2*theta_T_arcmins-10 # treecorr max sep in arcmins\n",
    "nbins_tc = 15 # treecorr no. of bins (should be an integer)\n",
    "\n",
    "# masking fraction for patch selection\n",
    "f_mask_max_Q = 0.2\n",
    "f_mask_max_W = 0.2\n"
   ]
  },
  {
   "cell_type": "code",
   "execution_count": null,
   "id": "18982447-5f14-49dc-8962-28f94267c674",
   "metadata": {},
   "outputs": [],
   "source": [
    "gg = treecorr.GGCorrelation(nbins = 20, min_sep=0.5, max_sep=475.5, sep_units='arcmin',bin_slop=0.01,)\n",
    "# this is a treecorr object, needed for input.\n",
    "\n",
    "for i in range(1,cat.Ntomobins+1):\n",
    "    hoscodes.shear2pcf(cat.tomobins[i],gg,i) #shear2pcf\n",
    "    hoscodes.map2alm(kappacat.tomobins[i],i)\n",
    "    #map^3 requires an fn_out\n",
    "    fn_out=dir_results+f\"Map3_HACC_KappaMap_curved_nside_{nside[0]}_nshells_{nshell[0]}_tomo_{str(i)}_seed_{seed[0]}.dat\"\n",
    "    hoscodes.map3alm(kappacat.tomobins[i],theta=thetas[0],nside=kappacat.nshells,fn_out=fn_out)\n",
    "    \n",
    "    \n",
    "for i in range(cat.Ntomobins):\n",
    "    for j in range(cat.Ntomobins):\n",
    "        hoscodes.shear2pxcf(cat.tomobins[i],gg,i,j)\n",
    "        \n",
    "hoscodes.integrated3PCF(tomo_map,tomo_xiA,tomo_xiB,theta_Q_arcmins,theta_T_arcmins,NSIDE,n_g,extension)\n",
    "hoscodes.PDFPeaksMinima(np.concatenate(kappacat.tomobins),load=True)"
   ]
  },
  {
   "cell_type": "code",
   "execution_count": null,
   "id": "7a170077-71ac-48cc-bf51-e7a71cd33ac1",
   "metadata": {},
   "outputs": [],
   "source": [
    "#hoscodes class must have all the relevant statistics to create the plots"
   ]
  }
 ],
 "metadata": {
  "kernelspec": {
   "display_name": "NERSC Python",
   "language": "python",
   "name": "python3"
  },
  "language_info": {
   "codemirror_mode": {
    "name": "ipython",
    "version": 3
   },
   "file_extension": ".py",
   "mimetype": "text/x-python",
   "name": "python",
   "nbconvert_exporter": "python",
   "pygments_lexer": "ipython3",
   "version": "3.9.7"
  }
 },
 "nbformat": 4,
 "nbformat_minor": 5
}
