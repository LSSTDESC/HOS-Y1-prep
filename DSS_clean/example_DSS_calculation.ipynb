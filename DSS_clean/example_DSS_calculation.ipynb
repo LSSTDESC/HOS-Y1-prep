{
 "cells": [
  {
   "cell_type": "code",
   "execution_count": 1,
   "metadata": {},
   "outputs": [],
   "source": [
    "import matplotlib.pyplot as plt\n",
    "import numpy as np\n",
    "from matplotlib import cm\n",
    "from astropy.table import Table\n",
    "from tqdm import tqdm\n",
    "import healpy as hp\n",
    "import treecorr\n",
    "import DSS_functions as DSS_fct"
   ]
  },
  {
   "cell_type": "code",
   "execution_count": 2,
   "metadata": {},
   "outputs": [],
   "source": [
    "from matplotlib import rc\n",
    "rc('text', usetex=True)\n",
    "rc('font', family='serif')\n",
    "\n",
    "\n",
    "SMALL_SIZE = 8\n",
    "MEDIUM_SIZE = 10\n",
    "BIGGER_SIZE = 15\n",
    "\n",
    "plt.rc('font', size=BIGGER_SIZE)          # controls default text sizes\n",
    "plt.rc('axes', titlesize=BIGGER_SIZE)     # fontsize of the axes title\n",
    "plt.rc('axes', labelsize=BIGGER_SIZE)    # fontsize of the x and y labels\n",
    "plt.rc('xtick', labelsize=BIGGER_SIZE)    # fontsize of the tick labels\n",
    "plt.rc('ytick', labelsize=BIGGER_SIZE)    # fontsize of the tick labels\n",
    "plt.rc('legend', fontsize=BIGGER_SIZE)    # legend fontsize\n",
    "plt.rc('figure', titlesize=BIGGER_SIZE)  # fontsize of the figure title"
   ]
  },
  {
   "attachments": {},
   "cell_type": "markdown",
   "metadata": {},
   "source": [
    "#### load all the necessary data, if the data is not preprocced before, I recommend to lower the resolution as very low scales are not considered anyway. Be aware that for the DSS foreground galaxies are needed, which are created with the corresponding density maps\n",
    "#### pix are those pixels that belong to the octant"
   ]
  },
  {
   "cell_type": "code",
   "execution_count": 3,
   "metadata": {},
   "outputs": [],
   "source": [
    "nside=2**11\n",
    "\n",
    "load_prepared_data = True\n",
    "if(load_prepared_data):\n",
    "    density_contrast = np.load('data/density_contrast.npy')\n",
    "\n",
    "    pix=np.load('data/pix_nside'+str(nside)+'.npy')\n",
    "    gamma1=np.load('data/gamma1_nside'+str(nside)+'.npy')[pix]\n",
    "    gamma2=np.load('data/gamma2_nside'+str(nside)+'.npy')[pix]\n",
    "\n",
    "else:\n",
    "    density_map = np.load('/global/homes/j/jharno/IA-infusion/SkySim5000/density/density_map_331_dens_allsky.npy')\n",
    "    density_contrast_map = (density_map-density_map.mean())/density_map.mean()\n",
    "\n",
    "    \n",
    "    fn_map_curved = '/global/homes/j/jharno/IA-infusion/SkySim5000/kappa/1.0060kappa.npy'\n",
    "    hpmap = np.load(fn_map_curved)\n",
    "    hpmap_low=hp.pixelfunc.ud_grade(hpmap,nside_out=nside,power=-2)\n",
    "    pix=np.where(hpmap_low!=-0)\n",
    "\n",
    "    fn_gamma1=\"/global/homes/j/jharno/IA-infusion/SkySim5000/shear/1.0060gamma1.npy\"\n",
    "    fn_gamma1 = np.load(fn_gamma1)\n",
    "    gamma1=hp.pixelfunc.ud_grade(fn_gamma1,nside_out=nside)[pix]\n",
    "    \n",
    "    fn_gamma2=\"/global/homes/j/jharno/IA-infusion/SkySim5000/shear/1.0060gamma2.npy\"\n",
    "    fn_gamma2 = np.load(fn_gamma2)\n",
    "    gamma2=hp.pixelfunc.ud_grade(fn_gamma2,nside_out=nside)[pix]\n"
   ]
  },
  {
   "attachments": {},
   "cell_type": "markdown",
   "metadata": {},
   "source": [
    "#### Initialise the DSS class, specify here the galaxy bias and galaxy number density"
   ]
  },
  {
   "cell_type": "code",
   "execution_count": 4,
   "metadata": {},
   "outputs": [
    {
     "name": "stdout",
     "output_type": "stream",
     "text": [
      "density contrast does not have nisde 2048\n",
      "SGD will be scaled to nside 2048\n"
     ]
    }
   ],
   "source": [
    "DSS_class = DSS_fct.DSS_class(filter='top_hat',theta_ap=20,nside=nside)\n",
    "Nap=DSS_class.calc_Nap(bias=1.5,n0=0.3,density_contrast=density_contrast)"
   ]
  },
  {
   "attachments": {},
   "cell_type": "markdown",
   "metadata": {},
   "source": [
    "#### Create the tables that are needed or calculating the shear profiles, and then use again then DSS class."
   ]
  },
  {
   "cell_type": "code",
   "execution_count": 7,
   "metadata": {},
   "outputs": [
    {
     "name": "stderr",
     "output_type": "stream",
     "text": [
      "100%|██████████| 5/5 [03:58<00:00, 47.68s/it]\n"
     ]
    }
   ],
   "source": [
    "ra,dec=hp.pix2ang(nside=nside,ipix=pix,lonlat=True)\n",
    "Nap_table = Table(np.array([ra[0],dec[0],Nap[pix][0]]).T, names=('ra','dec','Nap'))\n",
    "gamma_table = Table(np.array([ra[0],dec[0],-gamma1[0],gamma2[0]]).T, names=('ra','dec','gamma1','gamma2'))\n",
    "\n",
    "shear_table=DSS_class.calc_shear(Nap_table=Nap_table,gamma_table=gamma_table,theta_min=5,theta_max=120,nbins=20,N_quantiles=5)"
   ]
  },
  {
   "attachments": {},
   "cell_type": "markdown",
   "metadata": {},
   "source": [
    "#### The datavector is then shear profiles + aperture number $N_\\mathrm{ap}$. Save them to results"
   ]
  },
  {
   "cell_type": "code",
   "execution_count": 9,
   "metadata": {},
   "outputs": [],
   "source": [
    "Nap_table.write('results/Nap_table_nside'+str(nside), format='fits',overwrite=True)\n",
    "shear_table.write('results/shear_table_nside'+str(nside), format='fits',overwrite=True)"
   ]
  },
  {
   "cell_type": "code",
   "execution_count": null,
   "metadata": {},
   "outputs": [],
   "source": []
  }
 ],
 "metadata": {
  "kernelspec": {
   "display_name": "3pt_env",
   "language": "python",
   "name": "python3"
  },
  "language_info": {
   "codemirror_mode": {
    "name": "ipython",
    "version": 3
   },
   "file_extension": ".py",
   "mimetype": "text/x-python",
   "name": "python",
   "nbconvert_exporter": "python",
   "pygments_lexer": "ipython3",
   "version": "3.10.6"
  },
  "vscode": {
   "interpreter": {
    "hash": "5122e035d664ec8beb9191fcce7baa7411011d24e5af4126a4b64f24c15d4091"
   }
  }
 },
 "nbformat": 4,
 "nbformat_minor": 2
}
