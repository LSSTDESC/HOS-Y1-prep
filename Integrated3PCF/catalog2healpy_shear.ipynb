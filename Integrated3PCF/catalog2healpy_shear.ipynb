{
 "cells": [
  {
   "cell_type": "code",
   "execution_count": null,
   "id": "c7343653-3096-471b-8021-785d2ee651ff",
   "metadata": {},
   "outputs": [],
   "source": [
    "# Author: Anik Halder (ahalder@usm.lmu.de)\n",
    "\n",
    "import numpy as np\n",
    "import healpy as hp\n",
    "import os"
   ]
  },
  {
   "cell_type": "markdown",
   "id": "749776cc-fb17-45cb-a436-995c4d0e7777",
   "metadata": {},
   "source": [
    "# Convert shear catalog to healpy map"
   ]
  },
  {
   "cell_type": "code",
   "execution_count": null,
   "id": "6019a31f-6183-4cb3-b3cf-f8f907821a48",
   "metadata": {},
   "outputs": [],
   "source": [
    "def RaDec2pixel(ra, dec, nside):\n",
    "    #converts ra dec to healpy pixel index \n",
    "    #assumes that input ra and dec are in radians\n",
    "    return hp.pixelfunc.ang2pix(nside, np.pi/2.0 + np.radians(-dec), np.radians(ra))\n",
    "\n",
    "def create_healpy_map(ra, dec, g1, g2, nside):\n",
    "    \n",
    "    npix = hp.nside2npix(nside)\n",
    "    g1_map = np.zeros(npix)\n",
    "    g2_map = np.zeros(npix)\n",
    "    w_map = np.zeros(npix)\n",
    "    footprint_map = np.zeros(npix)\n",
    "    \n",
    "    pix = RaDec2pixel(ra,dec,nside=nside)\n",
    "    unique_pix, idx, idx_rep = np.unique(pix, return_index=True, return_inverse=True)\n",
    "    w_map[unique_pix] += np.bincount(idx_rep, weights=w)\n",
    "    g1_map[unique_pix] += np.bincount(idx_rep, weights=g1*w)\n",
    "    g2_map[unique_pix] += np.bincount(idx_rep, weights=g2*w)\n",
    "    mask_map = w_map != 0. # this is footprint of the map (in this bin)\n",
    "    \n",
    "    footprint_map[mask_map] = 1\n",
    "    g1_map[mask_map] =  g1_map[mask_map] / w_map[mask_map]  \n",
    "    g2_map[mask_map] =  g2_map[mask_map] / w_map[mask_map]  \n",
    "    \n",
    "    return g1_map, g2_map, w_map, footprint_map"
   ]
  },
  {
   "cell_type": "code",
   "execution_count": null,
   "id": "b3113cff-b360-4676-b22b-e9dd89f16515",
   "metadata": {},
   "outputs": [],
   "source": [
    "n_g = '0.6'\n",
    "catpath = '/global/homes/j/jharno/IA-infusion/SkySim5000/GalCat/StageIV_nz/V0/'\n",
    "NSIDE = 2048\n",
    "\n",
    "filepath_map_data = './data/' # the healpy maps will be stored in this path\n",
    "\n",
    "if (os.path.isdir(filepath_output) == False):\n",
    "    os.makedirs(filepath_output)\n",
    "\n",
    "for i in range(5):\n",
    "    tomo_bin = 'tomo'+str(i+1)\n",
    "    catname = catpath+'/GalCat_'+tomo_bin+'_All_'+n_g+'GpAM_RA_Dec_g1_g2_w.asc'\n",
    "    \n",
    "    cat = np.loadtxt(catname)\n",
    "    ra, dec, g1, g2, w, z = cat.T\n",
    "    \n",
    "    g1_map, g2_map, w_map, footprint_map = create_healpy_map(ra, dec, g1, g2, NSIDE)\n",
    "    \n",
    "    hp.write_map(filepath_map_data+'GalMap_'+tomo_bin+'_All_'+n_g+'GpAM_nside_'+str(NSIDE)+'_g1.fits', g1_map, overwrite=True)\n",
    "    hp.write_map(filepath_map_data+'GalMap_'+tomo_bin+'_All_'+n_g+'GpAM_nside_'+str(NSIDE)+'_g2.fits', g2_map, overwrite=True)\n",
    "    hp.write_map(filepath_map_data+'GalMap_'+tomo_bin+'_All_'+n_g+'GpAM_nside_'+str(NSIDE)+'_w.fits', w_map, overwrite=True)\n",
    "    hp.write_map(filepath_map_data+'GalMap_'+tomo_bin+'_All_'+n_g+'GpAM_nside_'+str(NSIDE)+'_footprint.fits', footprint_map, overwrite=True)"
   ]
  },
  {
   "cell_type": "code",
   "execution_count": null,
   "id": "394c02ec-d22c-49d7-92ec-923d928e33d3",
   "metadata": {},
   "outputs": [],
   "source": []
  }
 ],
 "metadata": {
  "kernelspec": {
   "display_name": "desc-python",
   "language": "python",
   "name": "desc-python"
  },
  "language_info": {
   "codemirror_mode": {
    "name": "ipython",
    "version": 3
   },
   "file_extension": ".py",
   "mimetype": "text/x-python",
   "name": "python",
   "nbconvert_exporter": "python",
   "pygments_lexer": "ipython3",
   "version": "3.8.12"
  }
 },
 "nbformat": 4,
 "nbformat_minor": 5
}
